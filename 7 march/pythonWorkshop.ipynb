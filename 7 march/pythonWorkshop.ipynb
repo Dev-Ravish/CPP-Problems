{
 "cells": [
  {
   "cell_type": "code",
   "execution_count": 1,
   "id": "1d1154ba",
   "metadata": {},
   "outputs": [
    {
     "name": "stdout",
     "output_type": "stream",
     "text": [
      "Hello World\n"
     ]
    }
   ],
   "source": [
    "print('Hello World')"
   ]
  },
  {
   "cell_type": "code",
   "execution_count": 4,
   "id": "3cb4c6be",
   "metadata": {},
   "outputs": [
    {
     "name": "stdout",
     "output_type": "stream",
     "text": [
      "MI Rules ,but not in chennai\n"
     ]
    }
   ],
   "source": [
    "print('MI Rules', ',' 'but not in chennai')"
   ]
  },
  {
   "cell_type": "code",
   "execution_count": 5,
   "id": "1a2a637f",
   "metadata": {},
   "outputs": [
    {
     "data": {
      "text/plain": [
       "5"
      ]
     },
     "execution_count": 5,
     "metadata": {},
     "output_type": "execute_result"
    }
   ],
   "source": [
    "3+2"
   ]
  },
  {
   "cell_type": "code",
   "execution_count": 6,
   "id": "49fca8be",
   "metadata": {},
   "outputs": [
    {
     "data": {
      "text/plain": [
       "5.0"
      ]
     },
     "execution_count": 6,
     "metadata": {},
     "output_type": "execute_result"
    }
   ],
   "source": [
    "3.0+2.0"
   ]
  },
  {
   "cell_type": "code",
   "execution_count": 7,
   "id": "5143864b",
   "metadata": {},
   "outputs": [
    {
     "data": {
      "text/plain": [
       "True"
      ]
     },
     "execution_count": 7,
     "metadata": {},
     "output_type": "execute_result"
    }
   ],
   "source": [
    "3!=2"
   ]
  },
  {
   "cell_type": "code",
   "execution_count": 8,
   "id": "529d9d21",
   "metadata": {
    "scrolled": true
   },
   "outputs": [
    {
     "data": {
      "text/plain": [
       "False"
      ]
     },
     "execution_count": 8,
     "metadata": {},
     "output_type": "execute_result"
    }
   ],
   "source": [
    "2!=2"
   ]
  },
  {
   "cell_type": "code",
   "execution_count": 9,
   "id": "627b129a",
   "metadata": {
    "scrolled": true
   },
   "outputs": [
    {
     "name": "stdout",
     "output_type": "stream",
     "text": [
      "Enter your favourite IPL team: chennai\n",
      "The IPL Champions for 2022 is:  chennai\n"
     ]
    }
   ],
   "source": [
    "fav = input('Enter your favourite IPL team: ')\n",
    "print('The IPL Champions for 2022 is: ', fav)"
   ]
  },
  {
   "cell_type": "code",
   "execution_count": 11,
   "id": "448145c5",
   "metadata": {
    "scrolled": false
   },
   "outputs": [
    {
     "name": "stdout",
     "output_type": "stream",
     "text": [
      "Enter the first num: 4\n",
      "Enter the decond number: 5\n",
      "The sum is:   9\n"
     ]
    }
   ],
   "source": [
    "n1 = int (input('Enter the first num: '))\n",
    "n2 = int (input('Enter the second number: '))\n",
    "sum=n1+n2\n",
    "print('The sum is:  ',sum)"
   ]
  },
  {
   "cell_type": "code",
   "execution_count": 12,
   "id": "9467f8d6",
   "metadata": {},
   "outputs": [
    {
     "name": "stdout",
     "output_type": "stream",
     "text": [
      "Enter the first num: 3\n",
      "Enter the second number: 5\n",
      "Product of two numbers:   15\n"
     ]
    }
   ],
   "source": [
    "n1 = int (input('Enter the first num: '))\n",
    "n2 = int (input('Enter the second number: '))\n",
    "prod = n1*n2\n",
    "print('Product of two numbers:  ',prod)"
   ]
  },
  {
   "cell_type": "code",
   "execution_count": 14,
   "id": "45f3b676",
   "metadata": {},
   "outputs": [
    {
     "name": "stdout",
     "output_type": "stream",
     "text": [
      "Enter any number: 4\n",
      "Divisible by 2 and not by 3\n"
     ]
    }
   ],
   "source": [
    "x=int(input('Enter any number: '))\n",
    "if x%2==0:\n",
    "    if x%3==0:\n",
    "        print('Divisible by 2 and 3')\n",
    "    else:\n",
    "        print('Divisible by 2 and not by 3')\n",
    "elif x%3==0:\n",
    "    print('Divisible by 3 but not by 2')"
   ]
  },
  {
   "cell_type": "code",
   "execution_count": 16,
   "id": "284ce082",
   "metadata": {},
   "outputs": [
    {
     "name": "stdout",
     "output_type": "stream",
     "text": [
      "Enter any number: 3\n",
      "3 is an odd number.\n"
     ]
    }
   ],
   "source": [
    "x=int(input('Enter any number: '))\n",
    "if x%2==0:\n",
    "    print(x,'is an even number.')\n",
    "else:\n",
    "    print(x,'is an odd number.')"
   ]
  },
  {
   "cell_type": "code",
   "execution_count": 20,
   "id": "9ce8b640",
   "metadata": {},
   "outputs": [
    {
     "name": "stdout",
     "output_type": "stream",
     "text": [
      "Enter any integer: 27\n",
      "Cube root of  27  is  3\n"
     ]
    }
   ],
   "source": [
    "#find the cube root\n",
    "x = int(input('Enter any integer: '))\n",
    "ans=0\n",
    "while ans**3 < abs(x):\n",
    "    ans=ans+1\n",
    "if ans**3 != abs(x):\n",
    "    print(x,'is not a perfect cube')\n",
    "else:\n",
    "    if  x<0:\n",
    "        ans=-ans\n",
    "    print('Cube root of ',x,' is ',ans)\n",
    "    "
   ]
  },
  {
   "cell_type": "code",
   "execution_count": 21,
   "id": "29c2d469",
   "metadata": {},
   "outputs": [
    {
     "name": "stdout",
     "output_type": "stream",
     "text": [
      "Enter any number27\n",
      "Cube root of  27  is  3\n"
     ]
    }
   ],
   "source": [
    "x = int(input('Enter any number'))\n",
    "for ans in range(0, abs(x+1)):\n",
    "    if(ans**3 >= abs(x)):\n",
    "        break\n",
    "if ans**3 != abs(x):\n",
    "    print(x,'is not a perfect cube')\n",
    "else:\n",
    "    if  x<0:\n",
    "        ans=-ans\n",
    "    print('Cube root of ',x,' is ',ans)"
   ]
  },
  {
   "cell_type": "code",
   "execution_count": 27,
   "id": "c072c544",
   "metadata": {},
   "outputs": [
    {
     "name": "stdout",
     "output_type": "stream",
     "text": [
      "Enter any number-9\n",
      "square root of  -9  is  3 i\n"
     ]
    }
   ],
   "source": [
    "x = int(input('Enter any number'))\n",
    "for ans in range(0, abs(x+1)):\n",
    "    if(ans**2 >= abs(x)):\n",
    "        break\n",
    "if ans**2 != abs(x):\n",
    "    print(x,'is not a perfect square')\n",
    "else:\n",
    "    if  x<0:\n",
    "        print('square root of ',x,' is ',ans,'i')\n",
    "    else:\n",
    "        print('square root of ',x,' is ',ans)"
   ]
  },
  {
   "cell_type": "code",
   "execution_count": 28,
   "id": "b5a47f79",
   "metadata": {},
   "outputs": [],
   "source": [
    "def maxVal(x,y):\n",
    "    if x>y:\n",
    "        return x\n",
    "    else:\n",
    "        return y"
   ]
  },
  {
   "cell_type": "code",
   "execution_count": 38,
   "id": "296205f6",
   "metadata": {
    "scrolled": true
   },
   "outputs": [
    {
     "data": {
      "text/plain": [
       "4"
      ]
     },
     "execution_count": 38,
     "metadata": {},
     "output_type": "execute_result"
    }
   ],
   "source": [
    "maxVal(3,4)"
   ]
  },
  {
   "cell_type": "code",
   "execution_count": 39,
   "id": "78a3d80d",
   "metadata": {},
   "outputs": [],
   "source": [
    "def minVal(x,y):\n",
    "    if x<y:\n",
    "        return x\n",
    "    else:\n",
    "        return y"
   ]
  },
  {
   "cell_type": "code",
   "execution_count": 40,
   "id": "bd62fb03",
   "metadata": {},
   "outputs": [
    {
     "data": {
      "text/plain": [
       "3"
      ]
     },
     "execution_count": 40,
     "metadata": {},
     "output_type": "execute_result"
    }
   ],
   "source": [
    "minVal(3,4)"
   ]
  },
  {
   "cell_type": "code",
   "execution_count": 41,
   "id": "fea9484e",
   "metadata": {},
   "outputs": [],
   "source": [
    "def printName(fn, ln, reverse):\n",
    "    if reverse:\n",
    "        print(ln+','+fn)\n",
    "    else:\n",
    "        print(fn,ln)"
   ]
  },
  {
   "cell_type": "code",
   "execution_count": 42,
   "id": "55c40158",
   "metadata": {},
   "outputs": [
    {
     "name": "stdout",
     "output_type": "stream",
     "text": [
      "kumar,ravish\n"
     ]
    }
   ],
   "source": [
    "printName('ravish','kumar',True)"
   ]
  },
  {
   "cell_type": "code",
   "execution_count": 43,
   "id": "e5111b79",
   "metadata": {},
   "outputs": [],
   "source": [
    "def cubeRoot(x):\n",
    "    ans=0\n",
    "    while ans**3 < abs(x):\n",
    "        ans=ans+1\n",
    "    if ans**3 != abs(x):\n",
    "        print(x,'is not a perfect cube')\n",
    "    else:\n",
    "        if  x<0:\n",
    "            ans=-ans\n",
    "        print('Cube root of ',x,' is ',ans)"
   ]
  },
  {
   "cell_type": "code",
   "execution_count": 44,
   "id": "66a47a70",
   "metadata": {},
   "outputs": [
    {
     "name": "stdout",
     "output_type": "stream",
     "text": [
      "Cube root of  27  is  3\n"
     ]
    }
   ],
   "source": [
    "cubeRoot(27)"
   ]
  },
  {
   "cell_type": "code",
   "execution_count": 45,
   "id": "42788596",
   "metadata": {},
   "outputs": [],
   "source": [
    "def factI(n):\n",
    "    result=1\n",
    "    while n>1:\n",
    "        result = result*n\n",
    "        n-=1\n",
    "    return result"
   ]
  },
  {
   "cell_type": "code",
   "execution_count": 47,
   "id": "35a45ff9",
   "metadata": {
    "scrolled": true
   },
   "outputs": [
    {
     "data": {
      "text/plain": [
       "720"
      ]
     },
     "execution_count": 47,
     "metadata": {},
     "output_type": "execute_result"
    }
   ],
   "source": [
    "factI(6)"
   ]
  },
  {
   "cell_type": "code",
   "execution_count": 48,
   "id": "9e5afab6",
   "metadata": {},
   "outputs": [],
   "source": [
    "def factR(n):\n",
    "    if n==1:\n",
    "        return 1\n",
    "    else:\n",
    "        return n*factR(n-1) #fact of recusion\n"
   ]
  },
  {
   "cell_type": "code",
   "execution_count": 49,
   "id": "1ea485ca",
   "metadata": {},
   "outputs": [
    {
     "data": {
      "text/plain": [
       "120"
      ]
     },
     "execution_count": 49,
     "metadata": {},
     "output_type": "execute_result"
    }
   ],
   "source": [
    "factR(5)"
   ]
  },
  {
   "cell_type": "code",
   "execution_count": 50,
   "id": "54fe898f",
   "metadata": {},
   "outputs": [
    {
     "name": "stdout",
     "output_type": "stream",
     "text": [
      "()\n",
      "(1, 'two', 3)\n"
     ]
    }
   ],
   "source": [
    "#data structure\n",
    "#Tuples\n",
    "\n",
    "t1 = ()\n",
    "t2 = (1,'two', 3)\n",
    "print(t1)\n",
    "print(t2)"
   ]
  },
  {
   "cell_type": "code",
   "execution_count": 53,
   "id": "285a8da6",
   "metadata": {},
   "outputs": [
    {
     "name": "stdout",
     "output_type": "stream",
     "text": [
      "(1, 'two', 3, (1, 'two', 3), 3.25)\n",
      "(1, 'two', 3)\n",
      "(3,)\n"
     ]
    }
   ],
   "source": [
    "t1 = (1,'two',3)\n",
    "t2 = (t1,3.25)\n",
    "print((t1+t2))\n",
    "print((t1+t2)[3])\n",
    "print((t1+t2)[2:3])"
   ]
  },
  {
   "cell_type": "code",
   "execution_count": 55,
   "id": "2a9a6416",
   "metadata": {},
   "outputs": [
    {
     "name": "stdout",
     "output_type": "stream",
     "text": [
      "I\n",
      "did\n",
      "it\n",
      "all\n",
      "4\n",
      "love\n"
     ]
    }
   ],
   "source": [
    "L = ['I' , 'did' , 'it', 'all', 4 ,'love']\n",
    "for i in range(len(L)):\n",
    "    print(L[i])"
   ]
  },
  {
   "cell_type": "code",
   "execution_count": 64,
   "id": "5c5919dc",
   "metadata": {},
   "outputs": [
    {
     "name": "stdout",
     "output_type": "stream",
     "text": [
      "Third month is: Mar\n"
     ]
    }
   ],
   "source": [
    "monthNumbers = {'Jan':1, 'Feb':2, 'Mar':3,\n",
    "                1:'Jan', 2:'Feb', 3:'Mar'}\n",
    "print('Third month is: ' + monthNumbers[3])"
   ]
  },
  {
   "cell_type": "code",
   "execution_count": 76,
   "id": "b4a32e8b",
   "metadata": {},
   "outputs": [],
   "source": [
    "monthNumbers = {'Jan':1, 'Feb':2, 'Mar':3,\n",
    "                1:'Jan', 2:'Feb', 3:'Mar'}\n",
    "dist = 3-2"
   ]
  },
  {
   "cell_type": "code",
   "execution_count": 72,
   "id": "71109e1c",
   "metadata": {},
   "outputs": [
    {
     "name": "stdout",
     "output_type": "stream",
     "text": [
      "Third month is: Mar\n"
     ]
    }
   ],
   "source": [
    "print('Third month is: ' + monthNumbers[3])"
   ]
  },
  {
   "cell_type": "code",
   "execution_count": null,
   "id": "1ab0e24b",
   "metadata": {},
   "outputs": [],
   "source": [
    "#jan and march are 2 months apart\n"
   ]
  },
  {
   "cell_type": "code",
   "execution_count": 86,
   "id": "284a40ec",
   "metadata": {},
   "outputs": [],
   "source": [
    "#Classes and obbject oriented programming\n",
    "class InSet(object):\n",
    "    def _init_(self):\n",
    "        self.vals=[]\n",
    "    def insert(self,e):\n",
    "        if e not in self.vals:\n",
    "            self.vals.append(e)\n",
    "    def remove(self,e):\n",
    "        try:\n",
    "            self.vals.remove(e)\n",
    "        except:\n",
    "            raise ValueError(str(e)+'not found')"
   ]
  },
  {
   "cell_type": "code",
   "execution_count": 93,
   "id": "ccaa8b31",
   "metadata": {},
   "outputs": [],
   "source": [
    "s=InSet()\n",
    "s._init_()"
   ]
  },
  {
   "cell_type": "code",
   "execution_count": 95,
   "id": "ff2f8c9e",
   "metadata": {},
   "outputs": [],
   "source": [
    "s.insert(3)"
   ]
  },
  {
   "cell_type": "code",
   "execution_count": 97,
   "id": "7172af76",
   "metadata": {},
   "outputs": [
    {
     "name": "stdout",
     "output_type": "stream",
     "text": [
      "None\n"
     ]
    }
   ],
   "source": [
    "print(s.insert(3))"
   ]
  },
  {
   "cell_type": "code",
   "execution_count": null,
   "id": "d65e5541",
   "metadata": {},
   "outputs": [],
   "source": []
  }
 ],
 "metadata": {
  "kernelspec": {
   "display_name": "Python 3 (ipykernel)",
   "language": "python",
   "name": "python3"
  },
  "language_info": {
   "codemirror_mode": {
    "name": "ipython",
    "version": 3
   },
   "file_extension": ".py",
   "mimetype": "text/x-python",
   "name": "python",
   "nbconvert_exporter": "python",
   "pygments_lexer": "ipython3",
   "version": "3.9.7"
  }
 },
 "nbformat": 4,
 "nbformat_minor": 5
}
